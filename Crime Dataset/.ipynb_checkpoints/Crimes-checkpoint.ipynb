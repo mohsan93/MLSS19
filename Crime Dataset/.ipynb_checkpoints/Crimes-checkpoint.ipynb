{
 "cells": [
  {
   "cell_type": "code",
   "execution_count": 291,
   "metadata": {},
   "outputs": [],
   "source": [
    "import numpy as np\n",
    "import pandas as pd\n",
    "import matplotlib.pyplot as plt\n",
    "import seaborn as sns\n",
    "from sklearn.preprocessing import StandardScaler\n",
    "from sklearn.linear_model import LinearRegression, SGDRegressor, Lasso, Ridge\n",
    "from sklearn.model_selection import KFold\n",
    "from sklearn.metrics import r2_score, mean_squared_error, mean_absolute_error\n",
    "from math import sqrt\n",
    "from sklearn.decomposition import PCA\n",
    "from sklearn.preprocessing import MinMaxScaler\n",
    "from sklearn.preprocessing import Imputer\n",
    "from sklearn.model_selection import GridSearchCV\n",
    "from sklearn import neighbors\n",
    "import time"
   ]
  },
  {
   "cell_type": "code",
   "execution_count": 292,
   "metadata": {},
   "outputs": [],
   "source": [
    "rawData = pd.read_csv(\"CommViolPredUnnormalizedData.txt\", sep=\",\", header=None)\n",
    "rawData.replace(to_replace = '?',value=np.nan,inplace=True)\n",
    "rawData.shape\n",
    "\n",
    "def readColumnNames(path):\n",
    "    with open (path) as myfile:\n",
    "        lines = myfile.readlines()              \n",
    "    \n",
    "    columnNames = []\n",
    "    for line in lines:\n",
    "        lineParts = str(line).split(\":\",2)\n",
    "        columnName = lineParts[0].split(\" \", 2)\n",
    "        columnNames.append(columnName[1])\n",
    "    return columnNames\n",
    "\n",
    "#add columnn headers to raw dataset:\n",
    "columnHeaders = readColumnNames(\"ColumnNames.txt\")\n",
    "rawData.columns = columnHeaders"
   ]
  },
  {
   "cell_type": "markdown",
   "metadata": {},
   "source": [
    "According to the documentation the first five (0-4) columns are information only:\n",
    "\n",
    "communityname: Community name - not predictive - for information only (string) <br>\n",
    "state: US state (by 2 letter postal abbreviation)(nominal)<br>\n",
    "countyCode: numeric code for county - not predictive, and many missing values (numeric)<br>\n",
    "communityCode: numeric code for community - not predictive and many missing values (numeric)<br>\n",
    "fold: fold number for non-random 10 fold cross validation, potentially useful for debugging, paired tests - not predictive (numeric - integer) <br>\n",
    "\n",
    "and do not help with the crime rate prediction, therefore i will drop them from the raw dataset table"
   ]
  },
  {
   "cell_type": "code",
   "execution_count": 293,
   "metadata": {},
   "outputs": [
    {
     "name": "stdout",
     "output_type": "stream",
     "text": [
      "The following columns had more than 100 missing values (from a  total of 2215 rows, so thats over 65%, therefore we are removing those columns: \n",
      " ['LemasSwornFT', 'LemasSwFTPerPop', 'LemasSwFTFieldOps', 'LemasSwFTFieldPerPop', 'LemasTotalReq', 'LemasTotReqPerPop', 'PolicReqPerOffic', 'PolicPerPop', 'RacialMatchCommPol', 'PctPolicWhite', 'PctPolicBlack', 'PctPolicHisp', 'PctPolicAsian', 'PctPolicMinor', 'OfficAssgnDrugUnits', 'NumKindsDrugsSeiz', 'PolicAveOTWorked', 'PolicCars', 'PolicOperBudg', 'LemasPctPolicOnPatr', 'LemasGangUnitDeploy', 'PolicBudgPerPop']\n"
     ]
    }
   ],
   "source": [
    "#dropping the first five columns:\n",
    "rawData.drop(columns=[\"communityname\", \"state\", \"countyCode\", \"communityCode\", \"fold\"], axis=1, inplace=True)\n",
    "\n",
    "\n",
    "#the row with the most missing values has 30 missing values (out of 147)\n",
    "#print(\"Row with most missing values:\", rawData.isnull().sum(axis=1).max())\n",
    "#print(\"Column with most missing values:\")\n",
    "\n",
    "booleanColumnsMissingValues = rawData.isnull().sum(axis=0).apply(lambda x: x > 1500).values\n",
    "filteredColumns = []\n",
    "for i,j in zip(rawData.columns, booleanColumnsMissingValues):\n",
    "      if j:\n",
    "            filteredColumns.append(i)\n",
    "print(\"The following columns had more than 100 missing values (from a  total of 2215 rows, so thats over 65%, therefore we are removing those columns: \\n\", filteredColumns)\n",
    "rawData.drop(filteredColumns, axis=1, inplace=True)"
   ]
  },
  {
   "cell_type": "code",
   "execution_count": 294,
   "metadata": {},
   "outputs": [
    {
     "name": "stdout",
     "output_type": "stream",
     "text": [
      "Now there are no more rows where our target value is missing:  0\n"
     ]
    }
   ],
   "source": [
    "rawData.shape\n",
    "\n",
    "# get the rows with the most missing values and  drop them:\n",
    "#turns out there are just a few rows with more than (or equal to) 5 missing values, the maximum is 6. Most common one is 3\n",
    "missingValuesRows = rawData.isnull().sum(axis=1)\n",
    "missingValuesRows = (missingValuesRows[np.argsort(missingValuesRows)[::-1]]>=5)\n",
    "missingValuesRowsIndexes = [i for i, x in zip(missingValuesRows.index,missingValuesRows.values) if x]\n",
    "rawData.drop(missingValuesRowsIndexes, axis=0, inplace=True)\n",
    "\n",
    "\n",
    "#remove rows where our target feature has missing values:\n",
    "\n",
    "missingValuesTarget = rawData['ViolentCrimesPerPop'].isnull()\n",
    "missingValuesTargetIndices = []\n",
    "for k,i in enumerate(missingValuesTarget):\n",
    "    if i:\n",
    "        missingValuesTargetIndices.append(k)\n",
    "        \n",
    "rawData = rawData.drop(rawData.index[missingValuesTargetIndices])\n",
    "print(\"Now there are no more rows where our target value is missing: \", rawData['ViolentCrimesPerPop'].isnull().sum())\n"
   ]
  },
  {
   "cell_type": "markdown",
   "metadata": {},
   "source": [
    "<b>since we want to predict the total number of violent crimes per population, we will drop the following attributes:</b> <br>\n",
    "-- murders: number of murders in 1995 (numeric - expected to be integer) potential GOAL attribute (to be predicted) <br>\n",
    "-- murdPerPop: number of murders per 100K population (numeric - decimal) potential GOAL attribute (to be predicted)<br>\n",
    "-- rapes: number of rapes in 1995 (numeric - expected to be integer) potential GOAL attribute (to be predicted )<br>\n",
    "-- rapesPerPop: number of rapes per 100K population (numeric - decimal) potential GOAL attribute (to be predicted)<br>\n",
    "-- robberies: number of robberies in 1995 (numeric - expected to be integer) potential GOAL attribute (to be predicted)<br>\n",
    "-- robbbPerPop: number of robberies per 100K population (numeric - decimal) potential GOAL attribute (to be predicted)<br>\n",
    "-- assaults: number of assaults in 1995 (numeric - expected to be integer) potential GOAL attribute (to be predicted)<br>\n",
    "-- assaultPerPop: number of assaults per 100K population (numeric - decimal) potential GOAL attribute (to be predicted)<br>\n",
    "-- burglaries: number of burglaries in 1995 (numeric - expected to be integer) potential GOAL attribute (to be predicted)<br>\n",
    "-- burglPerPop: number of burglaries per 100K population (numeric - decimal) potential GOAL attribute (to be predicted)<br>\n",
    "-- larcenies: number of larcenies in 1995 (numeric - expected to be integer) potential GOAL attribute (to be predicted)<br>\n",
    "-- larcPerPop: number of larcenies per 100K population (numeric - decimal) potential GOAL attribute (to be predicted)<br>\n",
    "-- autoTheft: number of auto thefts in 1995 (numeric - expected to be integer) potential GOAL attribute (to be predicted)<br>\n",
    "-- autoTheftPerPop: number of auto thefts per 100K population (numeric - decimal) potential GOAL attribute (to be predicted)<br>\n",
    "-- arsons: number of arsons in 1995 (numeric - expected to be integer) potential GOAL attribute (to be predicted)<br>\n",
    "-- arsonsPerPop: number of arsons per 100K population (numeric - decimal) potential GOAL attribute (to be predicted)<br> "
   ]
  },
  {
   "cell_type": "code",
   "execution_count": 295,
   "metadata": {},
   "outputs": [
    {
     "name": "stdout",
     "output_type": "stream",
     "text": [
      "(1991, 104)\n"
     ]
    }
   ],
   "source": [
    "rawData = rawData.drop([\"murders\",\"murdPerPop\",\"rapes\",\"rapesPerPop\", \"robberies\", \"robbbPerPop\", \"assaults\", \"assaultPerPop\", \"burglaries\",\n",
    "             \"burglPerPop\",\"larcenies\",\"larcPerPop\",\"autoTheft\",\"autoTheftPerPop\",\"arsons\",\"arsonsPerPop\"], axis=1)\n",
    "print(rawData.shape)"
   ]
  },
  {
   "cell_type": "code",
   "execution_count": 279,
   "metadata": {},
   "outputs": [],
   "source": [
    "#Imputing missing values:\n",
    "rawData = rawData.apply(pd.to_numeric)\n",
    "rawData = rawData.fillna(rawData.mean())\n",
    "tmpList = rawData.isnull().sum(axis=0)\n",
    "#tmpList[np.argsort(tmpList)][::-1]"
   ]
  },
  {
   "cell_type": "code",
   "execution_count": 280,
   "metadata": {},
   "outputs": [],
   "source": [
    "#correlation: ViolentCrimesPerPop\n",
    "correlationRaw = rawData.corr()['ViolentCrimesPerPop']\n",
    "#print(correlationRaw[np.argsort(abs(correlationRaw))[::-1]])"
   ]
  },
  {
   "cell_type": "code",
   "execution_count": 256,
   "metadata": {},
   "outputs": [
    {
     "data": {
      "text/plain": [
       "\" \\nSome Plots:\\nrawData.plot(x='ViolentCrimesPerPop', y='PctKidsBornNeverMar', style='o')\\nrawData.plot(x='ViolentCrimesPerPop', y='PctKids2Par', style='o')\\nrawData.plot(x='ViolentCrimesPerPop', y='PctFam2Par', style='o')\\nrawData.plot(x='ViolentCrimesPerPop', y='racePctWhite', style='o')\\nrawData.plot(x='ViolentCrimesPerPop', y='PctYoungKids2Par', style='o')\\nrawData.plot(x='ViolentCrimesPerPop', y='PctTeen2Par', style='o')\\nrawData.plot(x='ViolentCrimesPerPop', y='nonViolPerPop', style='o')\\nrawData.plot(x='ViolentCrimesPerPop', y='racepctblack', style='o')\\n\""
      ]
     },
     "execution_count": 256,
     "metadata": {},
     "output_type": "execute_result"
    }
   ],
   "source": [
    "#scaling/normalizing:\n",
    "scaler = MinMaxScaler(feature_range=(0, 1))\n",
    "scaler.fit(rawData)\n",
    "rawData_temp = pd.DataFrame(scaler.transform(rawData))\n",
    "rawData_temp.columns = rawData.columns\n",
    "\n",
    "\n",
    "\n",
    "\n",
    "''' \n",
    "Some Plots:\n",
    "rawData.plot(x='ViolentCrimesPerPop', y='PctKidsBornNeverMar', style='o')\n",
    "rawData.plot(x='ViolentCrimesPerPop', y='PctKids2Par', style='o')\n",
    "rawData.plot(x='ViolentCrimesPerPop', y='PctFam2Par', style='o')\n",
    "rawData.plot(x='ViolentCrimesPerPop', y='racePctWhite', style='o')\n",
    "rawData.plot(x='ViolentCrimesPerPop', y='PctYoungKids2Par', style='o')\n",
    "rawData.plot(x='ViolentCrimesPerPop', y='PctTeen2Par', style='o')\n",
    "rawData.plot(x='ViolentCrimesPerPop', y='nonViolPerPop', style='o')\n",
    "rawData.plot(x='ViolentCrimesPerPop', y='racepctblack', style='o')\n",
    "'''"
   ]
  },
  {
   "cell_type": "code",
   "execution_count": 257,
   "metadata": {},
   "outputs": [
    {
     "name": "stdout",
     "output_type": "stream",
     "text": [
      "R2 Score:  0.6379392641822728\n",
      "MSE Score:  0.778430026550345\n",
      "MAE Score:  0.5586790265103206\n",
      "R2 Score:  0.6510236896948771\n",
      "MSE Score:  0.5590790411828229\n",
      "MAE Score:  0.5292322350946047\n",
      "R2 Score:  0.6141823815891783\n",
      "MSE Score:  0.5303044851675212\n",
      "MAE Score:  0.5161073660737253\n",
      "R2 Score:  0.6466737666634361\n",
      "MSE Score:  0.7586541627999084\n",
      "MAE Score:  0.5739486682687212\n",
      "R2 Score:  0.6010444540342117\n",
      "MSE Score:  0.6152071180817008\n",
      "MAE Score:  0.49264683096616885\n",
      "R2 Score:  0.6644838187135411\n",
      "MSE Score:  0.490966780054747\n",
      "MAE Score:  0.4768672170585915\n",
      "R2 Score:  0.6556277390536223\n",
      "MSE Score:  0.4068446149913176\n",
      "MAE Score:  0.47344754462463684\n",
      "R2 Score:  0.6599211885208209\n",
      "MSE Score:  0.5607706733981889\n",
      "MAE Score:  0.5048073090842806\n",
      "R2 Score:  0.591523550661138\n",
      "MSE Score:  0.5935151689861579\n",
      "MAE Score:  0.5122902621713143\n",
      "R2 Score:  0.5540422887835432\n",
      "MSE Score:  0.5438377888741984\n",
      "MAE Score:  0.5071389754781382\n",
      "mean r2 score:  0.6276462141896643\n"
     ]
    }
   ],
   "source": [
    "y = rawData_temp['ViolentCrimesPerPop'].values\n",
    "X = rawData_temp.drop('ViolentCrimesPerPop', axis=1).values\n",
    "#first model, linear regression as baseline:\n",
    "kf = KFold(n_splits=10)\n",
    "scores = []\n",
    "\n",
    "c = 20\n",
    "pca = PCA(n_components = c)\n",
    "X = pca.fit_transform(X)\n",
    "\n",
    "\n",
    "for train_index, test_index in kf.split(X):\n",
    "     X_train, X_test = X[train_index], X[test_index]\n",
    "     y_train, y_test = y[train_index], y[test_index]\n",
    "     reg = Lasso(alpha=0.01).fit(X_train, y_train)\n",
    "     y_pred = reg.predict(X_test)\n",
    "     scores.append(r2_score(y_test, y_pred))\n",
    "     print(\"R2 Score: \", r2_score(y_test, y_pred))\n",
    "     print(\"MSE Score: \", mean_squared_error(y_test, y_pred))\n",
    "     print(\"MAE Score: \", mean_absolute_error(y_test, y_pred))\n",
    "\n",
    "print(\"mean r2 score: \", np.mean(scores))\n"
   ]
  },
  {
   "cell_type": "code",
   "execution_count": 296,
   "metadata": {},
   "outputs": [],
   "source": [
    "from sklearn.model_selection import cross_validate\n",
    "def evaluater(classifier, Xdata, Ydata, scoring = [\"explained_variance\", \"r2\" ,\"neg_mean_squared_error\", \"neg_mean_absolute_error\"], cv=10):\n",
    "    #explained variance: how many percent of the variance are explained?\n",
    "    #r^2: How many percent of the absolut squared error are explained\n",
    "    np.random.seed(0)\n",
    "    results = cross_validate(classifier, Xdata, Ydata, scoring = scoring, cv=cv, return_train_score=False)\n",
    "    rval = {}\n",
    "    for i in results:\n",
    "        rval[i] =  results[i].mean()\n",
    "    for i in [\"test_neg_mean_squared_error\", \"test_neg_mean_absolute_error\"]:\n",
    "        if rval[i] < 0:\n",
    "            rval[i] = rval[i]*-1\n",
    "    return rval\n",
    "\n"
   ]
  },
  {
   "cell_type": "code",
   "execution_count": 162,
   "metadata": {},
   "outputs": [
    {
     "name": "stdout",
     "output_type": "stream",
     "text": [
      "Amount of variance: [24.65927283 16.31501018  9.20332244  7.93173925  6.43540856  4.40062965\n",
      "  3.5732674   2.99237123  2.17134146  1.64339859  1.60177806  1.48743905\n",
      "  1.47045813  1.10037662]\n",
      "Sum of the variance: 84.99\n",
      "Percentage of variance: [0.23929017 0.1583186  0.08930777 0.0769685  0.06244831 0.0427031\n",
      " 0.03467449 0.02903756 0.0210704  0.01594731 0.01554343 0.0144339\n",
      " 0.01426912 0.0106779 ]\n",
      "Sum of the percentage of variance: 0.82\n"
     ]
    },
    {
     "data": {
      "image/png": "[encoded data removed]",
      "text/plain": [
       "<Figure size 432x288 with 1 Axes>"
      ]
     },
     "metadata": {
      "needs_background": "light"
     },
     "output_type": "display_data"
    },
    {
     "name": "stdout",
     "output_type": "stream",
     "text": [
      "(1991, 14)\n"
     ]
    }
   ],
   "source": [
    "#Using PCA for dimensionality reduction:\n",
    "'''\n",
    "y = rawData['ViolentCrimesPerPop']\n",
    "X = rawData.drop('ViolentCrimesPerPop', axis=1).values\n",
    "\n",
    "c = 14\n",
    "pca = PCA(n_components = c)\n",
    "X = pca.fit_transform(X)\n",
    "\n",
    "print(\"Amount of variance: %s\" % pca.explained_variance_)\n",
    "print(\"Sum of the variance: %s\" % sum(pca.explained_variance_).round(2))\n",
    "\n",
    "print(\"Percentage of variance: %s\" % pca.explained_variance_ratio_)\n",
    "print(\"Sum of the percentage of variance: %s\" % sum(pca.explained_variance_ratio_).round(2))\n",
    "\n",
    "\n",
    "plt.scatter(np.arange(1,(c+1)),pca.explained_variance_, c = 'red')\n",
    "plt.plot((0,15), (1,1), color = 'black', linestyle = 'dashed')\n",
    "plt.xlabel('PC')\n",
    "plt.ylabel('Amount of variance explained')\n",
    "plt.show()\n",
    "print(X.shape)\n",
    "'''"
   ]
  },
  {
   "cell_type": "code",
   "execution_count": 290,
   "metadata": {},
   "outputs": [],
   "source": [
    "def calculate_models(rawData, scaling=\"minmax\", pca_ind=True, pca_c=14, imputing=\"mean\"):\n",
    "    #imputing missing values:\n",
    "    rawData = rawData.apply(pd.to_numeric)\n",
    "    if(imputing==\"mean\"):\n",
    "        rawData = rawData.fillna(rawData.mean())\n",
    "    if(imputing==\"median\"):\n",
    "        rawData = rawData.apply(pd.to_numeric)\n",
    "        rawData = rawData.fillna(rawData.median())\n",
    "    if(imputing==\"mostFrequent\"):\n",
    "        imp = Imputer(missing_values='NaN', strategy='most_frequent', axis=0)\n",
    "        imp.fit(rawData)\n",
    "        rawData = imp.transform(rawData)\n",
    "    \n",
    "    #scaling:\n",
    "    if(scaling==\"minmax\"):\n",
    "        scaler = MinMaxScaler(feature_range=(0, 1))\n",
    "        scaler.fit(rawData)\n",
    "        rawData_temp = pd.DataFrame(scaler.transform(rawData))\n",
    "        rawData_temp.columns = rawData.columns\n",
    "        rawData = rawData_temp\n",
    "    if(scaling ==\"standard\"):\n",
    "        scaler = StandardScaler()\n",
    "        scaler.fit(rawData)\n",
    "        rawData_temp = pd.DataFrame(scaler.transform(rawData))\n",
    "        rawData_temp.columns = rawData.columns\n",
    "        rawData = rawData_temp\n",
    "    \n",
    "    #splitting into X and y:\n",
    "    y = rawData_temp['ViolentCrimesPerPop'].values\n",
    "    X = rawData_temp.drop('ViolentCrimesPerPop', axis=1).values\n",
    "    \n",
    "    #applying PCA\n",
    "    if(pca_ind):\n",
    "        pca = PCA(n_components = pca_c)\n",
    "        X = pca.fit_transform(X)\n",
    "\n",
    "    #applying GridSearch:\n",
    "    models = [LinearRegression(), SGDRegressor(), Lasso(), Ridge(), neighbors.KNeighborsRegressor()]\n",
    "\n",
    "    parameters = [{},\n",
    "                 {'loss': ['squared_loss', 'huber', 'epsilon_insensitive', 'squared_epsilon_insensitive'], \n",
    "                  'penalty' : ['none', 'l2', 'l1', 'elasticnet'],\n",
    "                  'max_iter': [10,100,1000,10000] \n",
    "                 },\n",
    "                  {'alpha':[0.0001,0.001,0.01,0.1]\n",
    "                 },\n",
    "                  {'alpha':[0.0001,0.001,0.01,0.1]\n",
    "                 },\n",
    "                  {'n_neighbors':[2,4,8,10,12,14,16,18,20,25,30], 'weights':['uniform','distance']}\n",
    "                 ]\n",
    "\n",
    "    for i,m in enumerate(models):\n",
    "        start_time = time.time()\n",
    "        grid_obj = GridSearchCV(m, parameters[i])\n",
    "        grid_obj = grid_obj.fit(X, y)\n",
    "        m = grid_obj.best_estimator_\n",
    "        print(m)\n",
    "        print(evaluater(m, X, y))\n",
    "        print(\"--- %s seconds ---\" % (time.time() - start_time))\n",
    "\n",
    "    #evaluater(classifier, Xdata, Ydata, scoring = [\"explained_variance\", \"r2\" ,\"neg_mean_squared_error\", \"neg_mean_absolute_error\"], cv=10)"
   ]
  },
  {
   "cell_type": "code",
   "execution_count": 298,
   "metadata": {},
   "outputs": [
    {
     "name": "stdout",
     "output_type": "stream",
     "text": [
      "scaling=minmax, pca_ind=True, pca_c=14, imputing=mean\n",
      "LinearRegression(copy_X=True, fit_intercept=True, n_jobs=1, normalize=False)\n",
      "{'fit_time': 0.0008975982666015625, 'score_time': 0.0004986763000488281, 'test_explained_variance': 0.6126056748898739, 'test_r2': 0.6108829156336709, 'test_neg_mean_squared_error': 0.006102940687349605, 'test_neg_mean_absolute_error': 0.05274845798187668}\n",
      "--- 0.02521514892578125 seconds ---\n",
      "SGDRegressor(alpha=0.0001, average=False, epsilon=0.1, eta0=0.01,\n",
      "       fit_intercept=True, l1_ratio=0.15, learning_rate='invscaling',\n",
      "       loss='squared_loss', max_iter=100, n_iter=None,\n",
      "       penalty='elasticnet', power_t=0.25, random_state=None, shuffle=True,\n",
      "       tol=None, verbose=0, warm_start=False)\n",
      "{'fit_time': 0.02932140827178955, 'score_time': 0.0006011009216308593, 'test_explained_variance': 0.6127637894458553, 'test_r2': 0.611048937140824, 'test_neg_mean_squared_error': 0.006101540173428928, 'test_neg_mean_absolute_error': 0.05272039954304184}\n",
      "--- 89.03076243400574 seconds ---\n",
      "Lasso(alpha=0.0001, copy_X=True, fit_intercept=True, max_iter=1000,\n",
      "   normalize=False, positive=False, precompute=False, random_state=None,\n",
      "   selection='cyclic', tol=0.0001, warm_start=False)\n",
      "{'fit_time': 0.000698256492614746, 'score_time': 0.0004985809326171875, 'test_explained_variance': 0.6127073705771453, 'test_r2': 0.610960149040236, 'test_neg_mean_squared_error': 0.006103576898097173, 'test_neg_mean_absolute_error': 0.05266096828181767}\n",
      "--- 0.034880638122558594 seconds ---\n",
      "Ridge(alpha=0.1, copy_X=True, fit_intercept=True, max_iter=None,\n",
      "   normalize=False, random_state=None, solver='auto', tol=0.001)\n",
      "{'fit_time': 0.000698256492614746, 'score_time': 0.0004987239837646485, 'test_explained_variance': 0.6126194672744047, 'test_r2': 0.610896777885881, 'test_neg_mean_squared_error': 0.006102849929927288, 'test_neg_mean_absolute_error': 0.05274668924510767}\n",
      "--- 0.0359039306640625 seconds ---\n",
      "KNeighborsRegressor(algorithm='auto', leaf_size=30, metric='minkowski',\n",
      "          metric_params=None, n_jobs=1, n_neighbors=10, p=2,\n",
      "          weights='distance')\n",
      "{'fit_time': 0.0017990589141845704, 'score_time': 0.020762944221496583, 'test_explained_variance': 0.6097448865343613, 'test_r2': 0.6077103709056476, 'test_neg_mean_squared_error': 0.006170652133047399, 'test_neg_mean_absolute_error': 0.05099425130395867}\n",
      "--- 3.190469264984131 seconds ---\n",
      "scaling=minmax, pca_ind=True, pca_c=14, imputing=median\n",
      "LinearRegression(copy_X=True, fit_intercept=True, n_jobs=1, normalize=False)\n",
      "{'fit_time': 0.0008977890014648437, 'score_time': 0.0005981922149658203, 'test_explained_variance': 0.6125433589919431, 'test_r2': 0.6108201088000079, 'test_neg_mean_squared_error': 0.006103830427223459, 'test_neg_mean_absolute_error': 0.0527509801658456}\n",
      "--- 0.0219419002532959 seconds ---\n",
      "SGDRegressor(alpha=0.0001, average=False, epsilon=0.1, eta0=0.01,\n",
      "       fit_intercept=True, l1_ratio=0.15, learning_rate='invscaling',\n",
      "       loss='squared_loss', max_iter=100, n_iter=None,\n",
      "       penalty='elasticnet', power_t=0.25, random_state=None, shuffle=True,\n",
      "       tol=None, verbose=0, warm_start=False)\n",
      "{'fit_time': 0.03630092144012451, 'score_time': 0.0007037639617919922, 'test_explained_variance': 0.6127004204845663, 'test_r2': 0.6109849260497215, 'test_neg_mean_squared_error': 0.006102447134840354, 'test_neg_mean_absolute_error': 0.05272307317269859}\n",
      "--- 90.85563850402832 seconds ---\n",
      "Lasso(alpha=0.0001, copy_X=True, fit_intercept=True, max_iter=1000,\n",
      "   normalize=False, positive=False, precompute=False, random_state=None,\n",
      "   selection='cyclic', tol=0.0001, warm_start=False)\n",
      "{'fit_time': 0.0005988121032714844, 'score_time': 0.000597691535949707, 'test_explained_variance': 0.6126443414575625, 'test_r2': 0.6108970479230168, 'test_neg_mean_squared_error': 0.006104471719903543, 'test_neg_mean_absolute_error': 0.05266347811065949}\n",
      "--- 0.03586983680725098 seconds ---\n",
      "Ridge(alpha=0.1, copy_X=True, fit_intercept=True, max_iter=None,\n",
      "   normalize=False, random_state=None, solver='auto', tol=0.001)\n",
      "{'fit_time': 0.000697922706604004, 'score_time': 0.0007980823516845703, 'test_explained_variance': 0.612557160514716, 'test_r2': 0.610833979712312, 'test_neg_mean_squared_error': 0.006103739643705191, 'test_neg_mean_absolute_error': 0.05274921493139302}\n",
      "--- 0.03889584541320801 seconds ---\n",
      "KNeighborsRegressor(algorithm='auto', leaf_size=30, metric='minkowski',\n",
      "          metric_params=None, n_jobs=1, n_neighbors=10, p=2,\n",
      "          weights='distance')\n",
      "{'fit_time': 0.0021865367889404297, 'score_time': 0.022252988815307618, 'test_explained_variance': 0.6095115185445562, 'test_r2': 0.6074864887207723, 'test_neg_mean_squared_error': 0.006173600477730977, 'test_neg_mean_absolute_error': 0.05100745859296354}\n",
      "--- 3.3600404262542725 seconds ---\n",
      "scaling=minmax, pca_ind=True, pca_c=14, imputing=most_frequent\n"
     ]
    },
    {
     "ename": "ValueError",
     "evalue": "Input contains NaN, infinity or a value too large for dtype('float64').",
     "output_type": "error",
     "traceback": [
      "\u001b[1;31m---------------------------------------------------------------------------\u001b[0m",
      "\u001b[1;31mValueError\u001b[0m                                Traceback (most recent call last)",
      "\u001b[1;32m<ipython-input-298-db0612954fdd>\u001b[0m in \u001b[0;36m<module>\u001b[1;34m()\u001b[0m\n\u001b[0;32m      6\u001b[0m \u001b[1;33m\u001b[0m\u001b[0m\n\u001b[0;32m      7\u001b[0m \u001b[0mprint\u001b[0m\u001b[1;33m(\u001b[0m\u001b[1;34m\"scaling=minmax, pca_ind=True, pca_c=14, imputing=most_frequent\"\u001b[0m\u001b[1;33m)\u001b[0m\u001b[1;33m\u001b[0m\u001b[0m\n\u001b[1;32m----> 8\u001b[1;33m \u001b[0mcalculate_models\u001b[0m\u001b[1;33m(\u001b[0m\u001b[0mrawData\u001b[0m\u001b[1;33m,\u001b[0m \u001b[0mscaling\u001b[0m\u001b[1;33m=\u001b[0m\u001b[1;34m\"minmax\"\u001b[0m\u001b[1;33m,\u001b[0m \u001b[0mpca_ind\u001b[0m\u001b[1;33m=\u001b[0m\u001b[1;32mTrue\u001b[0m\u001b[1;33m,\u001b[0m \u001b[0mpca_c\u001b[0m\u001b[1;33m=\u001b[0m\u001b[1;36m14\u001b[0m\u001b[1;33m,\u001b[0m \u001b[0mimputing\u001b[0m\u001b[1;33m=\u001b[0m\u001b[1;34m\"most_frequent\"\u001b[0m\u001b[1;33m)\u001b[0m\u001b[1;33m\u001b[0m\u001b[0m\n\u001b[0m\u001b[0;32m      9\u001b[0m \u001b[1;33m\u001b[0m\u001b[0m\n\u001b[0;32m     10\u001b[0m \u001b[0mprint\u001b[0m\u001b[1;33m(\u001b[0m\u001b[1;34m\"scaling=minmax, pca_ind=False, pca_c=0, imputing=mean\"\u001b[0m\u001b[1;33m)\u001b[0m\u001b[1;33m\u001b[0m\u001b[0m\n",
      "\u001b[1;32m<ipython-input-290-7782846325e4>\u001b[0m in \u001b[0;36mcalculate_models\u001b[1;34m(rawData, scaling, pca_ind, pca_c, imputing)\u001b[0m\n\u001b[0;32m     15\u001b[0m     \u001b[1;32mif\u001b[0m\u001b[1;33m(\u001b[0m\u001b[0mscaling\u001b[0m\u001b[1;33m==\u001b[0m\u001b[1;34m\"minmax\"\u001b[0m\u001b[1;33m)\u001b[0m\u001b[1;33m:\u001b[0m\u001b[1;33m\u001b[0m\u001b[0m\n\u001b[0;32m     16\u001b[0m         \u001b[0mscaler\u001b[0m \u001b[1;33m=\u001b[0m \u001b[0mMinMaxScaler\u001b[0m\u001b[1;33m(\u001b[0m\u001b[0mfeature_range\u001b[0m\u001b[1;33m=\u001b[0m\u001b[1;33m(\u001b[0m\u001b[1;36m0\u001b[0m\u001b[1;33m,\u001b[0m \u001b[1;36m1\u001b[0m\u001b[1;33m)\u001b[0m\u001b[1;33m)\u001b[0m\u001b[1;33m\u001b[0m\u001b[0m\n\u001b[1;32m---> 17\u001b[1;33m         \u001b[0mscaler\u001b[0m\u001b[1;33m.\u001b[0m\u001b[0mfit\u001b[0m\u001b[1;33m(\u001b[0m\u001b[0mrawData\u001b[0m\u001b[1;33m)\u001b[0m\u001b[1;33m\u001b[0m\u001b[0m\n\u001b[0m\u001b[0;32m     18\u001b[0m         \u001b[0mrawData_temp\u001b[0m \u001b[1;33m=\u001b[0m \u001b[0mpd\u001b[0m\u001b[1;33m.\u001b[0m\u001b[0mDataFrame\u001b[0m\u001b[1;33m(\u001b[0m\u001b[0mscaler\u001b[0m\u001b[1;33m.\u001b[0m\u001b[0mtransform\u001b[0m\u001b[1;33m(\u001b[0m\u001b[0mrawData\u001b[0m\u001b[1;33m)\u001b[0m\u001b[1;33m)\u001b[0m\u001b[1;33m\u001b[0m\u001b[0m\n\u001b[0;32m     19\u001b[0m         \u001b[0mrawData_temp\u001b[0m\u001b[1;33m.\u001b[0m\u001b[0mcolumns\u001b[0m \u001b[1;33m=\u001b[0m \u001b[0mrawData\u001b[0m\u001b[1;33m.\u001b[0m\u001b[0mcolumns\u001b[0m\u001b[1;33m\u001b[0m\u001b[0m\n",
      "\u001b[1;32mC:\\ProgramData\\Anaconda3\\lib\\site-packages\\sklearn\\preprocessing\\data.py\u001b[0m in \u001b[0;36mfit\u001b[1;34m(self, X, y)\u001b[0m\n\u001b[0;32m    306\u001b[0m         \u001b[1;31m# Reset internal state before fitting\u001b[0m\u001b[1;33m\u001b[0m\u001b[1;33m\u001b[0m\u001b[0m\n\u001b[0;32m    307\u001b[0m         \u001b[0mself\u001b[0m\u001b[1;33m.\u001b[0m\u001b[0m_reset\u001b[0m\u001b[1;33m(\u001b[0m\u001b[1;33m)\u001b[0m\u001b[1;33m\u001b[0m\u001b[0m\n\u001b[1;32m--> 308\u001b[1;33m         \u001b[1;32mreturn\u001b[0m \u001b[0mself\u001b[0m\u001b[1;33m.\u001b[0m\u001b[0mpartial_fit\u001b[0m\u001b[1;33m(\u001b[0m\u001b[0mX\u001b[0m\u001b[1;33m,\u001b[0m \u001b[0my\u001b[0m\u001b[1;33m)\u001b[0m\u001b[1;33m\u001b[0m\u001b[0m\n\u001b[0m\u001b[0;32m    309\u001b[0m \u001b[1;33m\u001b[0m\u001b[0m\n\u001b[0;32m    310\u001b[0m     \u001b[1;32mdef\u001b[0m \u001b[0mpartial_fit\u001b[0m\u001b[1;33m(\u001b[0m\u001b[0mself\u001b[0m\u001b[1;33m,\u001b[0m \u001b[0mX\u001b[0m\u001b[1;33m,\u001b[0m \u001b[0my\u001b[0m\u001b[1;33m=\u001b[0m\u001b[1;32mNone\u001b[0m\u001b[1;33m)\u001b[0m\u001b[1;33m:\u001b[0m\u001b[1;33m\u001b[0m\u001b[0m\n",
      "\u001b[1;32mC:\\ProgramData\\Anaconda3\\lib\\site-packages\\sklearn\\preprocessing\\data.py\u001b[0m in \u001b[0;36mpartial_fit\u001b[1;34m(self, X, y)\u001b[0m\n\u001b[0;32m    332\u001b[0m \u001b[1;33m\u001b[0m\u001b[0m\n\u001b[0;32m    333\u001b[0m         X = check_array(X, copy=self.copy, warn_on_dtype=True,\n\u001b[1;32m--> 334\u001b[1;33m                         estimator=self, dtype=FLOAT_DTYPES)\n\u001b[0m\u001b[0;32m    335\u001b[0m \u001b[1;33m\u001b[0m\u001b[0m\n\u001b[0;32m    336\u001b[0m         \u001b[0mdata_min\u001b[0m \u001b[1;33m=\u001b[0m \u001b[0mnp\u001b[0m\u001b[1;33m.\u001b[0m\u001b[0mmin\u001b[0m\u001b[1;33m(\u001b[0m\u001b[0mX\u001b[0m\u001b[1;33m,\u001b[0m \u001b[0maxis\u001b[0m\u001b[1;33m=\u001b[0m\u001b[1;36m0\u001b[0m\u001b[1;33m)\u001b[0m\u001b[1;33m\u001b[0m\u001b[0m\n",
      "\u001b[1;32mC:\\ProgramData\\Anaconda3\\lib\\site-packages\\sklearn\\utils\\validation.py\u001b[0m in \u001b[0;36mcheck_array\u001b[1;34m(array, accept_sparse, dtype, order, copy, force_all_finite, ensure_2d, allow_nd, ensure_min_samples, ensure_min_features, warn_on_dtype, estimator)\u001b[0m\n\u001b[0;32m    451\u001b[0m                              % (array.ndim, estimator_name))\n\u001b[0;32m    452\u001b[0m         \u001b[1;32mif\u001b[0m \u001b[0mforce_all_finite\u001b[0m\u001b[1;33m:\u001b[0m\u001b[1;33m\u001b[0m\u001b[0m\n\u001b[1;32m--> 453\u001b[1;33m             \u001b[0m_assert_all_finite\u001b[0m\u001b[1;33m(\u001b[0m\u001b[0marray\u001b[0m\u001b[1;33m)\u001b[0m\u001b[1;33m\u001b[0m\u001b[0m\n\u001b[0m\u001b[0;32m    454\u001b[0m \u001b[1;33m\u001b[0m\u001b[0m\n\u001b[0;32m    455\u001b[0m     \u001b[0mshape_repr\u001b[0m \u001b[1;33m=\u001b[0m \u001b[0m_shape_repr\u001b[0m\u001b[1;33m(\u001b[0m\u001b[0marray\u001b[0m\u001b[1;33m.\u001b[0m\u001b[0mshape\u001b[0m\u001b[1;33m)\u001b[0m\u001b[1;33m\u001b[0m\u001b[0m\n",
      "\u001b[1;32mC:\\ProgramData\\Anaconda3\\lib\\site-packages\\sklearn\\utils\\validation.py\u001b[0m in \u001b[0;36m_assert_all_finite\u001b[1;34m(X)\u001b[0m\n\u001b[0;32m     42\u001b[0m             and not np.isfinite(X).all()):\n\u001b[0;32m     43\u001b[0m         raise ValueError(\"Input contains NaN, infinity\"\n\u001b[1;32m---> 44\u001b[1;33m                          \" or a value too large for %r.\" % X.dtype)\n\u001b[0m\u001b[0;32m     45\u001b[0m \u001b[1;33m\u001b[0m\u001b[0m\n\u001b[0;32m     46\u001b[0m \u001b[1;33m\u001b[0m\u001b[0m\n",
      "\u001b[1;31mValueError\u001b[0m: Input contains NaN, infinity or a value too large for dtype('float64')."
     ]
    }
   ],
   "source": [
    "print(\"scaling=minmax, pca_ind=True, pca_c=14, imputing=mean\")\n",
    "calculate_models(rawData, scaling=\"minmax\", pca_ind=True, pca_c=14, imputing=\"mean\")\n",
    "\n",
    "print(\"scaling=minmax, pca_ind=True, pca_c=14, imputing=median\")\n",
    "calculate_models(rawData, scaling=\"minmax\", pca_ind=True, pca_c=14, imputing=\"median\")\n",
    "    \n",
    "print(\"scaling=minmax, pca_ind=True, pca_c=14, imputing=most_frequent\")\n",
    "calculate_models(rawData, scaling=\"minmax\", pca_ind=True, pca_c=14, imputing=\"mostFrequent\")\n",
    "    \n",
    "print(\"scaling=minmax, pca_ind=False, pca_c=0, imputing=mean\")\n",
    "calculate_models(rawData, scaling=\"minmax\", pca_ind=False, pca_c=0, imputing=\"mean\")\n",
    "\n",
    "print(\"scaling=minmax, pca_ind=False, pca_c=0, imputing=median\")\n",
    "calculate_models(rawData, scaling=\"minmax\", pca_ind=False, pca_c=0, imputing=\"median\")\n",
    "\n",
    "print(\"scaling=minmax, pca_ind=False, pca_c=0, imputing=most_frequent\")\n",
    "calculate_models(rawData, scaling=\"minmax\", pca_ind=False, pca_c=0, imputing=\"mostFrequent\")\n",
    "\n",
    "print(\"scaling=standard, pca_ind=True, pca_c=14, imputing=mean\")\n",
    "calculate_models(rawData, scaling=\"standard\", pca_ind=True, pca_c=14, imputing=\"mean\")\n",
    "\n",
    "print(\"scaling=standard, pca_ind=True, pca_c=14, imputing=median\")\n",
    "calculate_models(rawData, scaling=\"standard\", pca_ind=True, pca_c=14, imputing=\"median\")\n",
    "\n",
    "print(\"scaling=standard, pca_ind=True, pca_c=14, imputing=most_frequent\")\n",
    "calculate_models(rawData, scaling=\"standard\", pca_ind=True, pca_c=14, imputing=\"mostFrequent\")\n",
    "\n",
    "print(\"scaling=standard, pca_ind=False, pca_c=0, imputing=mean\")\n",
    "calculate_models(rawData, scaling=\"standard\", pca_ind=False, pca_c=0, imputing=\"mean\")\n",
    "\n",
    "print(\"scaling=standard, pca_ind=False, pca_c=0, imputing=median\")\n",
    "calculate_models(rawData, scaling=\"standard\", pca_ind=False, pca_c=0, imputing=\"median\")\n",
    "\n",
    "print(\"scaling=standard, pca_ind=False, pca_c=0, imputing=most_frequent\")\n",
    "calculate_models(rawData, scaling=\"standard\", pca_ind=False, pca_c=0, imputing=\"mostFrequent\")"
   ]
  }
 ],
 "metadata": {
  "kernelspec": {
   "display_name": "Python 3",
   "language": "python",
   "name": "python3"
  },
  "language_info": {
   "codemirror_mode": {
    "name": "ipython",
    "version": 3
   },
   "file_extension": ".py",
   "mimetype": "text/x-python",
   "name": "python",
   "nbconvert_exporter": "python",
   "pygments_lexer": "ipython3",
   "version": "3.7.0"
  }
 },
 "nbformat": 4,
 "nbformat_minor": 2
}
