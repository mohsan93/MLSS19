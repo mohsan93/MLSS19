{
 "cells": [
  {
   "cell_type": "code",
   "execution_count": 2,
   "metadata": {},
   "outputs": [
    {
     "name": "stdout",
     "output_type": "stream",
     "text": [
      "<class 'pandas.core.frame.DataFrame'>\n",
      "RangeIndex: 1885 entries, 0 to 1884\n",
      "Data columns (total 32 columns):\n",
      "id                   1885 non-null int64\n",
      "age                  1885 non-null category\n",
      "gender               1885 non-null category\n",
      "education            1885 non-null category\n",
      "country              1885 non-null category\n",
      "ethnicity            1885 non-null category\n",
      "neuroticism          1885 non-null int32\n",
      "extraversion         1885 non-null int32\n",
      "openness             1885 non-null int32\n",
      "agreeableness        1885 non-null int32\n",
      "conscientiousness    1885 non-null int32\n",
      "impulsiveness        1885 non-null float64\n",
      "sensation_seeking    1885 non-null float64\n",
      "alcohol              1885 non-null category\n",
      "amphet               1885 non-null category\n",
      "amyl                 1885 non-null category\n",
      "benzos               1885 non-null category\n",
      "caff                 1885 non-null category\n",
      "cannabis             1885 non-null category\n",
      "choc                 1885 non-null category\n",
      "coke                 1885 non-null category\n",
      "crack                1885 non-null category\n",
      "ecstasy              1885 non-null category\n",
      "heroin               1885 non-null category\n",
      "ketamine             1885 non-null category\n",
      "legalh               1885 non-null category\n",
      "lsd                  1885 non-null category\n",
      "meth                 1885 non-null category\n",
      "mushrooms            1885 non-null category\n",
      "nicotine             1885 non-null category\n",
      "semer                1885 non-null category\n",
      "vsa                  1885 non-null category\n",
      "dtypes: category(24), float64(2), int32(5), int64(1)\n",
      "memory usage: 133.5 KB\n",
      "None\n",
      "   id    age  gender                          education country  \\\n",
      "0   1  35-45  Female  Professional certificate/ diploma      UK   \n",
      "1   2  25-34    Male                   Doctorate degree      UK   \n",
      "2   3  35-45    Male  Professional certificate/ diploma      UK   \n",
      "3   4  18-24  Female                     Masters degree      UK   \n",
      "4   5  35-45  Female                   Doctorate degree      UK   \n",
      "\n",
      "           ethnicity  neuroticism  extraversion  openness  agreeableness  \\\n",
      "0  Mixed-White/Asian           39            36        42             37   \n",
      "1              White           29            52        55             48   \n",
      "2              White           31            45        40             32   \n",
      "3              White           34            34        46             47   \n",
      "4              White           43            28        43             41   \n",
      "\n",
      "   conscientiousness  impulsiveness  sensation_seeking alcohol amphet amyl  \\\n",
      "0                 42       -0.21712           -1.18084       5      2    0   \n",
      "1                 41       -0.71126           -0.21575       5      2    2   \n",
      "2                 34       -1.37983            0.40148       6      0    0   \n",
      "3                 46       -1.37983           -1.18084       4      0    0   \n",
      "4                 50       -0.21712           -0.21575       4      1    1   \n",
      "\n",
      "  benzos caff cannabis choc coke crack ecstasy heroin ketamine legalh lsd  \\\n",
      "0      2    6        0    5    0     0       0      0        0      0   0   \n",
      "1      0    6        4    6    3     0       4      0        2      0   2   \n",
      "2      0    6        3    4    0     0       0      0        0      0   0   \n",
      "3      3    5        2    4    2     0       0      0        2      0   0   \n",
      "4      0    6        3    6    0     0       1      0        0      1   0   \n",
      "\n",
      "  meth mushrooms nicotine semer vsa  \n",
      "0    0         0        2     0   0  \n",
      "1    3         0        4     0   0  \n",
      "2    0         1        0     0   0  \n",
      "3    0         0        2     0   0  \n",
      "4    0         2        2     0   0  \n"
     ]
    }
   ],
   "source": [
    "import pandas as pd\n",
    "import matplotlib.pyplot as plt\n",
    "#Import CSV\n",
    "#colnames, as they are not specified in DS\n",
    "pd.options.display.max_columns = 50\n",
    "colnames = [\"id\", \"age\", \"gender\", \"education\", \"country\", \"ethnicity\", \n",
    "            \"neuroticism\", \"extraversion\", \"openness\", \"agreeableness\",\n",
    "           \"conscientiousness\", \"impulsiveness\", \"sensation_seeking\",\n",
    "           \"alcohol\", \"amphet\", \"amyl\", \"benzos\", \"caff\", \"cannabis\",\n",
    "           \"choc\", \"coke\", \"crack\", \"ecstasy\", \"heroin\", \"ketamine\",\n",
    "           \"legalh\", \"lsd\", \"meth\", \"mushrooms\", \"nicotine\", \"semer\", \"vsa\"]\n",
    "drugs = pd.read_csv('data/drug_consumption.csv', header = None, names = colnames, index_col = False)\n",
    "\n",
    "# preprocessing (reverse transformation)\n",
    "#relabelling from web source\n",
    "age = {-0.07854: \"25-34\", -0.95197: \"18-24\", 2.59171: \"65+\", 1.82213: \"55-64\", 1.09449: \"45-54\", 0.49788: \"35-45\"}\n",
    "gender = {0.48246: \"Female\", -0.48246: \"Male\"}\n",
    "education = {-1.43719: \"Left school at 17 years\", -1.73790: \"Left school at 16 years\", -2.43591: \"Left school before 16 years\",\n",
    "           0.45468: \"University degree\", -0.05921: \"Professional certificate/ diploma\", -0.61113: \"Some college or university, no certificate or degree\",\n",
    "           -1.22751: \"Left school at 18 years\", 1.98437: \"Doctorate degree\", 1.16365: \"Masters degree\"}\n",
    "country = {0.21128: \"Republic of Ireland\", -0.28519: \"Other\", -0.46841: \"New Zealand\", 0.24923: \"Canada\",\n",
    "          -0.09765: \"Australia\", -0.57009: \"USA\", 0.96082: \"UK\"}\n",
    "ethnicity = {-0.31685: \"White\", 0.11440: \"Other\", -0.22166: \"Mixed-White/Black\", 0.12600: \"Mixed-White/Asian\",\n",
    "           1.90725: \"Mixed-Black/Asian\", -1.10702: \"Black\", -0.50212: \"Asian\"}\n",
    "\n",
    "# rounding error must be corrected: website only contains 5 decimal numbers\n",
    "drugs.age = round(drugs.age,5)\n",
    "drugs.age = drugs.age.replace(age.keys(), age.values())\n",
    "drugs.gender = round(drugs.gender, 5)\n",
    "drugs.gender = drugs.gender.replace(gender.keys(), gender.values())\n",
    "drugs.education = round(drugs.education, 5)\n",
    "drugs.education = drugs.education.replace(education.keys(), education.values())\n",
    "drugs.country = round(drugs.country, 5)\n",
    "drugs.country = drugs.country.replace(country.keys(), country.values())\n",
    "drugs.ethnicity = round(drugs.ethnicity, 5)\n",
    "drugs.ethnicity = drugs.ethnicity.replace(ethnicity.keys(), ethnicity.values())\n",
    "\n",
    "drugs.head()\n",
    "\n",
    "#list of dicts for reverse transformation of the other variables\n",
    "#these variables have more possible values, so it would be very time\n",
    "#intense to do that manually as well\n",
    "label_list = []\n",
    "#extract informatioin from txt file created from web source\n",
    "with open(\"data/drug_data-description.txt\", \"r\") as file:\n",
    "    data = file.readlines()\n",
    "    for line in data:\n",
    "        ### if line start with digit -> new variable section begins\n",
    "        if line[0].isdigit():\n",
    "            ### create new dict in list for each variable\n",
    "            label_list.append(dict())\n",
    "        ### only lines starting with <br> contain information\n",
    "        if line[0:4] == \"<br>\":\n",
    "            ### get clean numbers out of line\n",
    "            numbers = line.split()[1:]\n",
    "            #transform them from str to numeric\n",
    "            for i in range(len(numbers)):\n",
    "                if numbers[i].isdigit():\n",
    "                    numbers[i] = int(numbers[i])\n",
    "                else:\n",
    "                    numbers[i] = float(numbers[i])\n",
    "            ### append needed values to last (current) dict in list\n",
    "            if len(numbers) == 6:\n",
    "                numbers.pop(1)\n",
    "                numbers.pop(3)\n",
    "            if len(numbers) == 9:\n",
    "                numbers.pop(1)\n",
    "                numbers.pop(3)\n",
    "                numbers.pop(5)\n",
    "            for i in range(1, len(numbers), 2):\n",
    "                label_list[len(label_list)-1][numbers[i]] = numbers[i-1]\n",
    "\n",
    "## retransform variables according to dict\n",
    "for i in range(len(label_list)):\n",
    "    drugs.iloc[:,i+6] = round(drugs.iloc[:, i+6], 5)\n",
    "    drugs.iloc[:,i+6] = drugs.iloc[:,i+6].replace(label_list[i].keys(), label_list[i].values())\n",
    "\n",
    "#change data types\n",
    "for i in range(1, 6):\n",
    "    drugs[colnames[i]] = drugs[colnames[i]].astype(\"category\")\n",
    "for i in range(6, 11):\n",
    "    drugs[colnames[i]] = drugs[colnames[i]].astype(\"int32\")\n",
    "    \n",
    "#########takes some time\n",
    "#### removing \"CL*\"    \n",
    "for i in range(13, len(colnames)):\n",
    "    for j in range(0, len(drugs[colnames[i]])):\n",
    "        drugs.iloc[j,i] = int(drugs.iloc[j,i][-1])\n",
    "drugs.head()\n",
    "\n",
    "for i in range(13, len(colnames)):\n",
    "    drugs[colnames[i]] = drugs[colnames[i]].astype(\"category\")\n",
    "print(drugs.info())\n",
    "print(drugs.head())"
   ]
  },
  {
   "cell_type": "markdown",
   "metadata": {},
   "source": [
    "### Data Set Description\n",
    "\n",
    "The Data Set contains information about the frequency of drug use depending on different demographic and psychological attributes. It contains 1885 observations on 32 variables, wehereas one is the ID and 19 can be considered as target variables as they contain information on the frequencey of drug use on different kind of drugs. We decided to only work on one specific drug (cannabis). Therefore the data set consists of 12 features. The features are numerical and categorical. The target variable has seven different values (never used the drug - used it yesterday), therefore it can be considered as a multiple class problem.\n",
    "The target variable is inequally distributed as most people eather never consumed cannabis or used it wihtin the last day (both > 20%). Inbetween the values vary about 10%. Most people are and come form UK or USA and are mostly young (< 25 years). Almost all participants have a degree, indicating that the study was conducted at university. The psychological attributes are approximately normally distributed. There are only very few values which are extreme outliers beside that there are no peculiarities. The data set does not contain missing values.\n"
   ]
  },
  {
   "cell_type": "markdown",
   "metadata": {},
   "source": [
    "## 3 Statistical Analysis"
   ]
  },
  {
   "cell_type": "code",
   "execution_count": 2,
   "metadata": {},
   "outputs": [
    {
     "data": {
      "image/png": "[encoded data removed]",
      "text/plain": [
       "<Figure size 1152x864 with 12 Axes>"
      ]
     },
     "metadata": {
      "needs_background": "light"
     },
     "output_type": "display_data"
    }
   ],
   "source": [
    "fig, axlist = plt.subplots(3,4,figsize=(16,12))\n",
    "variable = 1\n",
    "for row in range(0,3):\n",
    "    for i in range(0,4):\n",
    "        if drugs[colnames[variable]].dtype == \"int32\" or drugs[colnames[variable]].dtype == \"float64\":\n",
    "            axlist[row][i].boxplot(drugs[colnames[variable]])\n",
    "            axlist[row][i].set_title(colnames[variable])\n",
    "        else:\n",
    "            tab = pd.crosstab(drugs[colnames[variable]], columns=\"count\")\n",
    "            rel_tab = tab/tab.sum()\n",
    "            rel_tab.plot(kind = \"bar\", ax = axlist[row][i])\n",
    "            axlist[row][i].set_title(colnames[variable])\n",
    "        variable += 1"
   ]
  },
  {
   "cell_type": "code",
   "execution_count": 3,
   "metadata": {},
   "outputs": [
    {
     "data": {
      "text/plain": [
       "<matplotlib.axes._subplots.AxesSubplot at 0x7fd264e76f28>"
      ]
     },
     "execution_count": 3,
     "metadata": {},
     "output_type": "execute_result"
    },
    {
     "data": {
      "image/png": "[encoded data removed]",
      "text/plain": [
       "<Figure size 432x288 with 1 Axes>"
      ]
     },
     "metadata": {
      "needs_background": "light"
     },
     "output_type": "display_data"
    }
   ],
   "source": [
    "tab = pd.crosstab(drugs[\"education\"], columns = \"count\")\n",
    "rel_tab = tab/tab.sum()\n",
    "rel_tab.plot(kind = \"bar\")"
   ]
  },
  {
   "cell_type": "code",
   "execution_count": 4,
   "metadata": {},
   "outputs": [
    {
     "data": {
      "image/png": "[encoded data removed]",
      "text/plain": [
       "<Figure size 1152x1296 with 20 Axes>"
      ]
     },
     "metadata": {
      "needs_background": "light"
     },
     "output_type": "display_data"
    }
   ],
   "source": [
    "fig, axlist = plt.subplots(5,4,figsize=(16,18))\n",
    "for row in range(0,5):\n",
    "    for i in range(0,4):\n",
    "        tab = pd.crosstab(drugs[colnames[variable]], columns=\"count\")\n",
    "        rel_tab = tab/tab.sum()\n",
    "        rel_tab.plot(kind = \"bar\", ax = axlist[row][i])\n",
    "        axlist[row][i].set_title(colnames[variable])\n",
    "        if variable == 31:\n",
    "            break\n",
    "        variable += 1"
   ]
  },
  {
   "cell_type": "code",
   "execution_count": 5,
   "metadata": {},
   "outputs": [
    {
     "data": {
      "text/plain": [
       "id                   0\n",
       "age                  0\n",
       "gender               0\n",
       "education            0\n",
       "country              0\n",
       "ethnicity            0\n",
       "neuroticism          0\n",
       "extraversion         0\n",
       "openness             0\n",
       "agreeableness        0\n",
       "conscientiousness    0\n",
       "impulsiveness        0\n",
       "sensation_seeking    0\n",
       "alcohol              0\n",
       "amphet               0\n",
       "amyl                 0\n",
       "benzos               0\n",
       "caff                 0\n",
       "cannabis             0\n",
       "choc                 0\n",
       "coke                 0\n",
       "crack                0\n",
       "ecstasy              0\n",
       "heroin               0\n",
       "ketamine             0\n",
       "legalh               0\n",
       "lsd                  0\n",
       "meth                 0\n",
       "mushrooms            0\n",
       "nicotine             0\n",
       "semer                0\n",
       "vsa                  0\n",
       "dtype: int64"
      ]
     },
     "execution_count": 5,
     "metadata": {},
     "output_type": "execute_result"
    }
   ],
   "source": [
    "drugs.isna().sum() # The number of missing values per Attribute (column)"
   ]
  },
  {
   "cell_type": "code",
   "execution_count": 6,
   "metadata": {},
   "outputs": [
    {
     "data": {
      "text/plain": [
       "(1885, 32)"
      ]
     },
     "execution_count": 6,
     "metadata": {},
     "output_type": "execute_result"
    }
   ],
   "source": [
    "drugs.shape # Check dimensions"
   ]
  },
  {
   "cell_type": "code",
   "execution_count": 7,
   "metadata": {
    "scrolled": true
   },
   "outputs": [
    {
     "data": {
      "text/html": [
       "<div>\n",
       "<style scoped>\n",
       "    .dataframe tbody tr th:only-of-type {\n",
       "        vertical-align: middle;\n",
       "    }\n",
       "\n",
       "    .dataframe tbody tr th {\n",
       "        vertical-align: top;\n",
       "    }\n",
       "\n",
       "    .dataframe thead th {\n",
       "        text-align: right;\n",
       "    }\n",
       "</style>\n",
       "<table border=\"1\" class=\"dataframe\">\n",
       "  <thead>\n",
       "    <tr style=\"text-align: right;\">\n",
       "      <th></th>\n",
       "      <th>neuroticism</th>\n",
       "      <th>extraversion</th>\n",
       "      <th>openness</th>\n",
       "      <th>agreeableness</th>\n",
       "      <th>conscientiousness</th>\n",
       "      <th>impulsiveness</th>\n",
       "      <th>sensation_seeking</th>\n",
       "    </tr>\n",
       "  </thead>\n",
       "  <tbody>\n",
       "    <tr>\n",
       "      <th>count</th>\n",
       "      <td>1885.000000</td>\n",
       "      <td>1885.000000</td>\n",
       "      <td>1885.000000</td>\n",
       "      <td>1885.000000</td>\n",
       "      <td>1885.000000</td>\n",
       "      <td>1885.000000</td>\n",
       "      <td>1885.000000</td>\n",
       "    </tr>\n",
       "    <tr>\n",
       "      <th>mean</th>\n",
       "      <td>35.921485</td>\n",
       "      <td>39.576127</td>\n",
       "      <td>45.762334</td>\n",
       "      <td>42.866313</td>\n",
       "      <td>41.437135</td>\n",
       "      <td>0.007216</td>\n",
       "      <td>-0.003292</td>\n",
       "    </tr>\n",
       "    <tr>\n",
       "      <th>std</th>\n",
       "      <td>9.135869</td>\n",
       "      <td>6.771769</td>\n",
       "      <td>6.579641</td>\n",
       "      <td>6.438106</td>\n",
       "      <td>6.966625</td>\n",
       "      <td>0.954435</td>\n",
       "      <td>0.963701</td>\n",
       "    </tr>\n",
       "    <tr>\n",
       "      <th>min</th>\n",
       "      <td>12.000000</td>\n",
       "      <td>16.000000</td>\n",
       "      <td>24.000000</td>\n",
       "      <td>12.000000</td>\n",
       "      <td>17.000000</td>\n",
       "      <td>-2.555240</td>\n",
       "      <td>-2.078480</td>\n",
       "    </tr>\n",
       "    <tr>\n",
       "      <th>25%</th>\n",
       "      <td>29.000000</td>\n",
       "      <td>35.000000</td>\n",
       "      <td>41.000000</td>\n",
       "      <td>39.000000</td>\n",
       "      <td>37.000000</td>\n",
       "      <td>-0.711260</td>\n",
       "      <td>-0.525930</td>\n",
       "    </tr>\n",
       "    <tr>\n",
       "      <th>50%</th>\n",
       "      <td>36.000000</td>\n",
       "      <td>40.000000</td>\n",
       "      <td>46.000000</td>\n",
       "      <td>43.000000</td>\n",
       "      <td>42.000000</td>\n",
       "      <td>-0.217120</td>\n",
       "      <td>0.079870</td>\n",
       "    </tr>\n",
       "    <tr>\n",
       "      <th>75%</th>\n",
       "      <td>42.000000</td>\n",
       "      <td>44.000000</td>\n",
       "      <td>51.000000</td>\n",
       "      <td>48.000000</td>\n",
       "      <td>46.000000</td>\n",
       "      <td>0.529750</td>\n",
       "      <td>0.765400</td>\n",
       "    </tr>\n",
       "    <tr>\n",
       "      <th>max</th>\n",
       "      <td>60.000000</td>\n",
       "      <td>59.000000</td>\n",
       "      <td>60.000000</td>\n",
       "      <td>60.000000</td>\n",
       "      <td>59.000000</td>\n",
       "      <td>2.901610</td>\n",
       "      <td>1.921730</td>\n",
       "    </tr>\n",
       "  </tbody>\n",
       "</table>\n",
       "</div>"
      ],
      "text/plain": [
       "       neuroticism  extraversion     openness  agreeableness  \\\n",
       "count  1885.000000   1885.000000  1885.000000    1885.000000   \n",
       "mean     35.921485     39.576127    45.762334      42.866313   \n",
       "std       9.135869      6.771769     6.579641       6.438106   \n",
       "min      12.000000     16.000000    24.000000      12.000000   \n",
       "25%      29.000000     35.000000    41.000000      39.000000   \n",
       "50%      36.000000     40.000000    46.000000      43.000000   \n",
       "75%      42.000000     44.000000    51.000000      48.000000   \n",
       "max      60.000000     59.000000    60.000000      60.000000   \n",
       "\n",
       "       conscientiousness  impulsiveness  sensation_seeking  \n",
       "count        1885.000000    1885.000000        1885.000000  \n",
       "mean           41.437135       0.007216          -0.003292  \n",
       "std             6.966625       0.954435           0.963701  \n",
       "min            17.000000      -2.555240          -2.078480  \n",
       "25%            37.000000      -0.711260          -0.525930  \n",
       "50%            42.000000      -0.217120           0.079870  \n",
       "75%            46.000000       0.529750           0.765400  \n",
       "max            59.000000       2.901610           1.921730  "
      ]
     },
     "execution_count": 7,
     "metadata": {},
     "output_type": "execute_result"
    }
   ],
   "source": [
    "drugs.iloc[:,1:].describe() #without id"
   ]
  },
  {
   "cell_type": "markdown",
   "metadata": {},
   "source": [
    "There is no statistical summary for categorical data. We can get a summary of the categorical variables by passing only those columns to describe():"
   ]
  },
  {
   "cell_type": "code",
   "execution_count": 8,
   "metadata": {},
   "outputs": [
    {
     "data": {
      "text/html": [
       "<div>\n",
       "<style scoped>\n",
       "    .dataframe tbody tr th:only-of-type {\n",
       "        vertical-align: middle;\n",
       "    }\n",
       "\n",
       "    .dataframe tbody tr th {\n",
       "        vertical-align: top;\n",
       "    }\n",
       "\n",
       "    .dataframe thead th {\n",
       "        text-align: right;\n",
       "    }\n",
       "</style>\n",
       "<table border=\"1\" class=\"dataframe\">\n",
       "  <thead>\n",
       "    <tr style=\"text-align: right;\">\n",
       "      <th></th>\n",
       "      <th>age</th>\n",
       "      <th>gender</th>\n",
       "      <th>education</th>\n",
       "      <th>country</th>\n",
       "      <th>ethnicity</th>\n",
       "      <th>alcohol</th>\n",
       "      <th>amphet</th>\n",
       "      <th>amyl</th>\n",
       "      <th>benzos</th>\n",
       "      <th>caff</th>\n",
       "      <th>cannabis</th>\n",
       "      <th>choc</th>\n",
       "      <th>coke</th>\n",
       "      <th>crack</th>\n",
       "      <th>ecstasy</th>\n",
       "      <th>heroin</th>\n",
       "      <th>ketamine</th>\n",
       "      <th>legalh</th>\n",
       "      <th>lsd</th>\n",
       "      <th>meth</th>\n",
       "      <th>mushrooms</th>\n",
       "      <th>nicotine</th>\n",
       "      <th>semer</th>\n",
       "      <th>vsa</th>\n",
       "    </tr>\n",
       "  </thead>\n",
       "  <tbody>\n",
       "    <tr>\n",
       "      <th>count</th>\n",
       "      <td>1885</td>\n",
       "      <td>1885</td>\n",
       "      <td>1885</td>\n",
       "      <td>1885</td>\n",
       "      <td>1885</td>\n",
       "      <td>1885</td>\n",
       "      <td>1885</td>\n",
       "      <td>1885</td>\n",
       "      <td>1885</td>\n",
       "      <td>1885</td>\n",
       "      <td>1885</td>\n",
       "      <td>1885</td>\n",
       "      <td>1885</td>\n",
       "      <td>1885</td>\n",
       "      <td>1885</td>\n",
       "      <td>1885</td>\n",
       "      <td>1885</td>\n",
       "      <td>1885</td>\n",
       "      <td>1885</td>\n",
       "      <td>1885</td>\n",
       "      <td>1885</td>\n",
       "      <td>1885</td>\n",
       "      <td>1885</td>\n",
       "      <td>1885</td>\n",
       "    </tr>\n",
       "    <tr>\n",
       "      <th>unique</th>\n",
       "      <td>6</td>\n",
       "      <td>2</td>\n",
       "      <td>9</td>\n",
       "      <td>7</td>\n",
       "      <td>7</td>\n",
       "      <td>7</td>\n",
       "      <td>7</td>\n",
       "      <td>7</td>\n",
       "      <td>7</td>\n",
       "      <td>7</td>\n",
       "      <td>7</td>\n",
       "      <td>7</td>\n",
       "      <td>7</td>\n",
       "      <td>7</td>\n",
       "      <td>7</td>\n",
       "      <td>7</td>\n",
       "      <td>7</td>\n",
       "      <td>7</td>\n",
       "      <td>7</td>\n",
       "      <td>7</td>\n",
       "      <td>7</td>\n",
       "      <td>7</td>\n",
       "      <td>5</td>\n",
       "      <td>7</td>\n",
       "    </tr>\n",
       "    <tr>\n",
       "      <th>top</th>\n",
       "      <td>18-24</td>\n",
       "      <td>Male</td>\n",
       "      <td>Some college or university, no certificate or ...</td>\n",
       "      <td>UK</td>\n",
       "      <td>White</td>\n",
       "      <td>5</td>\n",
       "      <td>0</td>\n",
       "      <td>0</td>\n",
       "      <td>0</td>\n",
       "      <td>6</td>\n",
       "      <td>6</td>\n",
       "      <td>6</td>\n",
       "      <td>0</td>\n",
       "      <td>0</td>\n",
       "      <td>0</td>\n",
       "      <td>0</td>\n",
       "      <td>0</td>\n",
       "      <td>0</td>\n",
       "      <td>0</td>\n",
       "      <td>0</td>\n",
       "      <td>0</td>\n",
       "      <td>6</td>\n",
       "      <td>0</td>\n",
       "      <td>0</td>\n",
       "    </tr>\n",
       "    <tr>\n",
       "      <th>freq</th>\n",
       "      <td>643</td>\n",
       "      <td>943</td>\n",
       "      <td>506</td>\n",
       "      <td>1044</td>\n",
       "      <td>1720</td>\n",
       "      <td>759</td>\n",
       "      <td>976</td>\n",
       "      <td>1305</td>\n",
       "      <td>1000</td>\n",
       "      <td>1385</td>\n",
       "      <td>463</td>\n",
       "      <td>807</td>\n",
       "      <td>1038</td>\n",
       "      <td>1627</td>\n",
       "      <td>1021</td>\n",
       "      <td>1605</td>\n",
       "      <td>1490</td>\n",
       "      <td>1094</td>\n",
       "      <td>1069</td>\n",
       "      <td>1429</td>\n",
       "      <td>982</td>\n",
       "      <td>610</td>\n",
       "      <td>1877</td>\n",
       "      <td>1455</td>\n",
       "    </tr>\n",
       "  </tbody>\n",
       "</table>\n",
       "</div>"
      ],
      "text/plain": [
       "          age gender                                          education  \\\n",
       "count    1885   1885                                               1885   \n",
       "unique      6      2                                                  9   \n",
       "top     18-24   Male  Some college or university, no certificate or ...   \n",
       "freq      643    943                                                506   \n",
       "\n",
       "       country ethnicity  alcohol  amphet  amyl  benzos  caff  cannabis  choc  \\\n",
       "count     1885      1885     1885    1885  1885    1885  1885      1885  1885   \n",
       "unique       7         7        7       7     7       7     7         7     7   \n",
       "top         UK     White        5       0     0       0     6         6     6   \n",
       "freq      1044      1720      759     976  1305    1000  1385       463   807   \n",
       "\n",
       "        coke  crack  ecstasy  heroin  ketamine  legalh   lsd  meth  mushrooms  \\\n",
       "count   1885   1885     1885    1885      1885    1885  1885  1885       1885   \n",
       "unique     7      7        7       7         7       7     7     7          7   \n",
       "top        0      0        0       0         0       0     0     0          0   \n",
       "freq    1038   1627     1021    1605      1490    1094  1069  1429        982   \n",
       "\n",
       "        nicotine  semer   vsa  \n",
       "count       1885   1885  1885  \n",
       "unique         7      5     7  \n",
       "top            6      0     0  \n",
       "freq         610   1877  1455  "
      ]
     },
     "execution_count": 8,
     "metadata": {},
     "output_type": "execute_result"
    }
   ],
   "source": [
    "categorical = drugs.dtypes[drugs.dtypes == \"category\"].index #gives list of attributes that are categorical\n",
    "drugs[categorical].describe()"
   ]
  },
  {
   "cell_type": "code",
   "execution_count": 9,
   "metadata": {
    "scrolled": true
   },
   "outputs": [
    {
     "name": "stdout",
     "output_type": "stream",
     "text": [
      "Index(['age', 'gender', 'education', 'country', 'ethnicity', 'alcohol',\n",
      "       'amphet', 'amyl', 'benzos', 'caff', 'cannabis', 'choc', 'coke', 'crack',\n",
      "       'ecstasy', 'heroin', 'ketamine', 'legalh', 'lsd', 'meth', 'mushrooms',\n",
      "       'nicotine', 'semer', 'vsa'],\n",
      "      dtype='object')\n",
      "col_0     count\n",
      "age            \n",
      "18-24  0.341114\n",
      "25-34  0.255172\n",
      "35-45  0.188859\n",
      "45-54  0.155968\n",
      "55-64  0.049337\n",
      "65+    0.009549\n",
      "\n",
      "col_0                                                  count\n",
      "education                                                   \n",
      "Doctorate degree                                    0.047215\n",
      "Left school at 16 years                             0.052520\n",
      "Left school at 17 years                             0.015915\n",
      "Left school at 18 years                             0.053050\n",
      "Left school before 16 years                         0.014854\n",
      "Masters degree                                      0.150133\n",
      "Professional certificate/ diploma                   0.143236\n",
      "Some college or university, no certificate or d...  0.268435\n",
      "University degree                                   0.254642\n",
      "\n",
      "col_0       count\n",
      "alcohol          \n",
      "0        0.018037\n",
      "1        0.018037\n",
      "2        0.036074\n",
      "3        0.105040\n",
      "4        0.152255\n",
      "5        0.402653\n",
      "6        0.267905\n",
      "\n",
      "col_0       count\n",
      "ecstasy          \n",
      "0        0.541645\n",
      "1        0.059947\n",
      "2        0.124138\n",
      "3        0.146950\n",
      "4        0.082759\n",
      "5        0.033422\n",
      "6        0.011141\n",
      "\n"
     ]
    }
   ],
   "source": [
    "#list of proportional frequency tables\n",
    "prop_tables = []\n",
    "for variable in categorical:\n",
    "    tab = pd.crosstab(drugs[variable], columns=\"count\")\n",
    "    rel_tab = tab/tab.sum()\n",
    "    prop_tables.append(rel_tab)\n",
    "\n",
    "print(categorical)\n",
    "\n",
    "for i in [0, 2, 5, 14]:\n",
    "    print(prop_tables[i])\n",
    "    print()\n",
    "    "
   ]
  },
  {
   "cell_type": "markdown",
   "metadata": {},
   "source": [
    "## Testing Algorithms"
   ]
  },
  {
   "cell_type": "code",
   "execution_count": 123,
   "metadata": {},
   "outputs": [],
   "source": [
    "from sklearn.linear_model import LinearRegression, SGDRegressor\n",
    "from sklearn.preprocessing import LabelEncoder\n",
    "from sklearn.model_selection import cross_validate\n",
    "from sklearn import metrics\n",
    "\n",
    "\n",
    "import random\n",
    "\n",
    "def linear_experiment(classifier, Xdata, Ydata, scoring = [\"explained_variance\", \"r2\" ,\"mean_squared_error\", \"mean_absolute_error\"], cv=10):\n",
    "    #explained variance: how many percent of the variance are explained?\n",
    "    #r^2: How many percent of the absolut squared error are explained\n",
    "    random.seed(0)\n",
    "    results = cross_validate(classifier, Xdata, Ydata, scoring = scoring, cv=cv, return_train_score=False)\n",
    "    rval = {}\n",
    "    for i in results:\n",
    "        rval[i] =  results[i].mean()\n",
    "    for i in [\"test_mean_squared_error\", \"test_mean_absolute_error\"]:\n",
    "        if rval[i] < 0:\n",
    "            rval[i] = rval[i]*-1\n",
    "    return rval\n"
   ]
  },
  {
   "cell_type": "code",
   "execution_count": 102,
   "metadata": {},
   "outputs": [],
   "source": [
    "#### unpreprocessed data\n",
    "Xdata = pd.concat([drugs.iloc[:,1:5], drugs.iloc[:,13:drugs.shape[1]]], axis = 1)\n",
    "for i in range(0,4):\n",
    "    label_encoder = LabelEncoder()\n",
    "    Xdata.iloc[:,i] = label_encoder.fit_transform(Xdata.iloc[:,i])\n",
    "Ydata = drugs.conscientiousness\n",
    "for i in range(0, 4):\n",
    "    Xdata.iloc[:,i] = Xdata.iloc[:,i].astype(\"category\")"
   ]
  },
  {
   "cell_type": "code",
   "execution_count": 104,
   "metadata": {},
   "outputs": [],
   "source": [
    "#### dummy encoding\n",
    "Xdata_dummy = pd.get_dummies(Xdata)"
   ]
  },
  {
   "cell_type": "markdown",
   "metadata": {},
   "source": [
    "#### Linear Regression"
   ]
  },
  {
   "cell_type": "markdown",
   "metadata": {},
   "source": [
    "##### Unprocessed Data"
   ]
  },
  {
   "cell_type": "code",
   "execution_count": 111,
   "metadata": {},
   "outputs": [
    {
     "data": {
      "text/plain": [
       "{'fit_time': 0.011418461799621582,\n",
       " 'score_time': 0.015816736221313476,\n",
       " 'test_explained_variance': 0.07175512677804033,\n",
       " 'test_r2': 0.06741724113234814,\n",
       " 'test_mean_squared_error': 43.489369217847404,\n",
       " 'test_mean_absolute_error': 5.227060206930931}"
      ]
     },
     "execution_count": 111,
     "metadata": {},
     "output_type": "execute_result"
    }
   ],
   "source": [
    "original_results = linear_experiment(LinearRegression(), Xdata, Ydata)\n",
    "original_results"
   ]
  },
  {
   "cell_type": "markdown",
   "metadata": {},
   "source": [
    "##### Dummy Encoding"
   ]
  },
  {
   "cell_type": "code",
   "execution_count": 122,
   "metadata": {},
   "outputs": [
    {
     "data": {
      "text/plain": [
       "{'fit_time': 0.013358259201049804,\n",
       " 'score_time': 0.0013640880584716796,\n",
       " 'test_explained_variance': -1.2635410940743834e+20,\n",
       " 'test_r2': -1.2751016786782359e+20,\n",
       " 'test_mean_squared_error': 6.20900451318961e+21,\n",
       " 'test_mean_absolute_error': 3221427925.466352}"
      ]
     },
     "execution_count": 122,
     "metadata": {},
     "output_type": "execute_result"
    }
   ],
   "source": [
    "dummy_results = linear_experiment(LinearRegression(), Xdata_dummy, Ydata)\n",
    "dummy_results"
   ]
  },
  {
   "cell_type": "markdown",
   "metadata": {},
   "source": [
    "##### Gradient Descent "
   ]
  },
  {
   "cell_type": "code",
   "execution_count": 126,
   "metadata": {},
   "outputs": [
    {
     "data": {
      "text/plain": [
       "{'fit_time': 0.034601354598999025,\n",
       " 'score_time': 0.015269231796264649,\n",
       " 'test_explained_variance': 0.0383898168312586,\n",
       " 'test_r2': -0.012053404378245546,\n",
       " 'test_mean_squared_error': 46.55747819945769,\n",
       " 'test_mean_absolute_error': 5.4573324783668244}"
      ]
     },
     "execution_count": 126,
     "metadata": {},
     "output_type": "execute_result"
    }
   ],
   "source": [
    "gd_original_results = linear_experiment(SGDRegressor(max_iter = 100, tol =None), Xdata, Ydata)\n",
    "gd_original_results"
   ]
  },
  {
   "cell_type": "code",
   "execution_count": 127,
   "metadata": {},
   "outputs": [
    {
     "data": {
      "text/plain": [
       "{'fit_time': 0.0860738754272461,\n",
       " 'score_time': 0.0013104915618896485,\n",
       " 'test_explained_variance': 0.04564847909922881,\n",
       " 'test_r2': 0.04055141280778888,\n",
       " 'test_mean_squared_error': 44.74676302017133,\n",
       " 'test_mean_absolute_error': 5.301185964472836}"
      ]
     },
     "execution_count": 127,
     "metadata": {},
     "output_type": "execute_result"
    }
   ],
   "source": [
    "gd_dummy_results = linear_experiment(SGDRegressor(max_iter = 100, tol =None), Xdata_dummy, Ydata)\n",
    "gd_dummy_results"
   ]
  },
  {
   "cell_type": "code",
   "execution_count": 43,
   "metadata": {},
   "outputs": [
    {
     "data": {
      "text/plain": [
       "0.14673477076712105"
      ]
     },
     "execution_count": 43,
     "metadata": {},
     "output_type": "execute_result"
    }
   ],
   "source": [
    "drugs_original = pd.read_csv('data/drug_consumption.csv', header = None, names = colnames, index_col = False)\n",
    "X_orginal = pd.concat([drugs_original.iloc[:,1:5], drugs_original.iloc[:,13:drugs.shape[1]]], axis = 1)\n",
    "for i in range(4, X_orginal.shape[1]):\n",
    "    label_encoder = LabelEncoder()\n",
    "    X_orginal.iloc[:,i] = label_encoder.fit_transform(X_orginal.iloc[:,i])\n",
    "X_orginal\n",
    "Y_original = drugs_original.conscientiousness\n",
    "lm = LinearRegression()\n",
    "lm.fit(X_orginal, Y_original)\n",
    "lm.score(X_orginal, Y_original)"
   ]
  }
 ],
 "metadata": {
  "kernelspec": {
   "display_name": "Python 3",
   "language": "python",
   "name": "python3"
  },
  "language_info": {
   "codemirror_mode": {
    "name": "ipython",
    "version": 3
   },
   "file_extension": ".py",
   "mimetype": "text/x-python",
   "name": "python",
   "nbconvert_exporter": "python",
   "pygments_lexer": "ipython3",
   "version": "3.7.0"
  }
 },
 "nbformat": 4,
 "nbformat_minor": 2
}
